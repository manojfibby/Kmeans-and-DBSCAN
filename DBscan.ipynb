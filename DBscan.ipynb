{
  "nbformat": 4,
  "nbformat_minor": 0,
  "metadata": {
    "colab": {
      "name": "DBscan.ipynb",
      "provenance": [],
      "collapsed_sections": [],
      "authorship_tag": "ABX9TyO7EcMenW0fcizMaEsiOzzE",
      "include_colab_link": true
    },
    "kernelspec": {
      "name": "python3",
      "display_name": "Python 3"
    },
    "language_info": {
      "name": "python"
    }
  },
  "cells": [
    {
      "cell_type": "markdown",
      "metadata": {
        "id": "view-in-github",
        "colab_type": "text"
      },
      "source": [
        "<a href=\"https://colab.research.google.com/github/manojfibby/Kmeans-and-DBSCAN/blob/main/DBscan.ipynb\" target=\"_parent\"><img src=\"https://colab.research.google.com/assets/colab-badge.svg\" alt=\"Open In Colab\"/></a>"
      ]
    },
    {
      "cell_type": "code",
      "metadata": {
        "colab": {
          "base_uri": "https://localhost:8080/",
          "height": 515
        },
        "id": "7dHECxWps-k6",
        "outputId": "46f9dc3b-a877-40f8-dd4e-f0c494edfbb5"
      },
      "source": [
        "import numpy as np\n",
        "from sklearn.datasets import make_blobs\n",
        "from matplotlib import pyplot as plt\n",
        "from matplotlib.pyplot import figure\n",
        "from pandas import DataFrame\n",
        "from google.colab import drive\n",
        "import pandas as pd\n",
        "\n",
        "drive.mount('/content/gdrive',force_remount=True)\n",
        "csv_file_path = '/content/gdrive/My Drive/ML_Datasets/Iris.csv'\n",
        "dataset = pd.read_csv(csv_file_path)\n",
        "dataset = dataset.iloc[:,:-1]\n",
        "dataset = dataset.iloc[:,3:]\n",
        "\n",
        "dataset = dataset.values.tolist()\n",
        "X = np.array(dataset)\n",
        "\n",
        "from sklearn.cluster import DBSCAN\n",
        "clustering=DBSCAN(eps=20,min_samples=2).fit(X)\n",
        "cluster=clustering.labels_\n",
        "\n",
        "len(set(cluster))\n",
        "\n",
        "def show_clusters(X,cluster):\n",
        "  df=DataFrame(dict(x=X[:,0],y=X[:,1],label=cluster))\n",
        "  colors={-1:'red',0:'blue',1:'orange',2:'green',3:'skyblue'}\n",
        "  fig, ax=plt.subplots(figsize=(8,8))\n",
        "  grouped =df.groupby('label')\n",
        "  for key,group in grouped:\n",
        "    group.plot(ax=ax,kind='scatter',x='x',y='y',label=key,color=colors[key])\n",
        "  plt.xlabel('X_1')\n",
        "  plt.ylabel('X_2')\n",
        "  plt.show()\n",
        "show_clusters(X,cluster)\n",
        "              "
      ],
      "execution_count": null,
      "outputs": [
        {
          "output_type": "stream",
          "name": "stdout",
          "text": [
            "Mounted at /content/gdrive\n"
          ]
        },
        {
          "output_type": "display_data",
          "data": {
            "image/png": "[encoded data removed]",
            "text/plain": [
              "<Figure size 576x576 with 1 Axes>"
            ]
          },
          "metadata": {
            "needs_background": "light"
          }
        }
      ]
    }
  ]
}