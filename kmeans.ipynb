{
  "nbformat": 4,
  "nbformat_minor": 0,
  "metadata": {
    "colab": {
      "name": "kmeans.ipynb",
      "provenance": [],
      "collapsed_sections": [],
      "authorship_tag": "ABX9TyPzrJ6/7/vFnrM0jZuNZ87u",
      "include_colab_link": true
    },
    "kernelspec": {
      "name": "python3",
      "display_name": "Python 3"
    },
    "language_info": {
      "name": "python"
    }
  },
  "cells": [
    {
      "cell_type": "markdown",
      "metadata": {
        "id": "view-in-github",
        "colab_type": "text"
      },
      "source": [
        "<a href=\"https://colab.research.google.com/github/manojfibby/Kmeans-and-DBSCAN/blob/main/kmeans.ipynb\" target=\"_parent\"><img src=\"https://colab.research.google.com/assets/colab-badge.svg\" alt=\"Open In Colab\"/></a>"
      ]
    },
    {
      "cell_type": "code",
      "metadata": {
        "colab": {
          "base_uri": "https://localhost:8080/",
          "height": 700
        },
        "id": "A2RpPz_p6NCR",
        "outputId": "56838908-a7a1-4587-ca17-956a7d55b8a4"
      },
      "source": [
        "#import required libraries\n",
        "import numpy as np\n",
        "import matplotlib.pyplot as plt\n",
        "from sklearn.datasets import make_blobs\n",
        "import pandas as pd\n",
        "from pandas import DataFrame\n",
        "from google.colab import drive\n",
        "\n",
        "drive.mount('/content/gdrive',force_remount=True)\n",
        "csv_file_path = '/content/gdrive/My Drive/ML_Datasets/Iris.csv'\n",
        "\n",
        "dataset = pd.read_csv(csv_file_path)\n",
        "dataset = dataset.iloc[:,:-1]\n",
        "dataset = dataset.iloc[:,1:]\n",
        "dataset = dataset.iloc[:,1:]\n",
        "dataset = dataset.iloc[:,1:]\n",
        "\n",
        "dataset = dataset.values.tolist()\n",
        "points = np.array(dataset)\n",
        "\n",
        "from sklearn.cluster import KMeans\n",
        "\n",
        "#Create a kmeans objects\n",
        "kmeans=KMeans(n_clusters=5)\n",
        "\n",
        "#Fit the Kmeans object to the dataset\n",
        "kmeans.fit(points)\n",
        "print(\"points :\", len(points))\n",
        "\n",
        "clusters=kmeans.cluster_centers_\n",
        "#print out the clusters\n",
        "print(clusters)\n",
        "y_km=kmeans.fit_predict(points)\n",
        "print(y_km)\n",
        "\n",
        "def show_clusters(X,cluster):\n",
        "  df=DataFrame(dict(x=X[:,0],y=X[:,1],label=cluster))\n",
        "  colors={-1:'red',0:'blue',1:'orange',2:'green',3:'skyblue',4:'yellow'}\n",
        "  fig, ax=plt.subplots(figsize=(8,8))\n",
        "  grouped =df.groupby('label')\n",
        "  for key,group in grouped:\n",
        "    group.plot(ax=ax,kind='scatter',x='x',y='y',label=key,color=colors[key])\n",
        "  plt.xlabel('X_1')\n",
        "  plt.ylabel('X_2')\n",
        "  plt.show()\n",
        "show_clusters(points,y_km)\n",
        "\n",
        "\n",
        "plt.show()\n",
        "\n",
        "\n"
      ],
      "execution_count": null,
      "outputs": [
        {
          "output_type": "stream",
          "name": "stdout",
          "text": [
            "Mounted at /content/gdrive\n",
            "points : 150\n",
            "[[5.39666667 2.05333333]\n",
            " [1.464      0.244     ]\n",
            " [3.884      1.192     ]\n",
            " [6.28461538 2.13846154]\n",
            " [4.684375   1.5125    ]]\n",
            "[1 1 1 1 1 1 1 1 1 1 1 1 1 1 1 1 1 1 1 1 1 1 1 1 1 1 1 1 1 1 1 1 1 1 1 1 1\n",
            " 1 1 1 1 1 1 1 1 1 1 1 1 1 2 2 2 3 2 2 2 3 2 3 3 2 3 2 3 2 2 3 2 3 2 3 2 2\n",
            " 2 2 2 2 2 3 3 3 3 2 2 2 2 2 3 3 2 2 3 3 3 3 3 2 3 3 4 0 4 0 0 4 2 4 0 4 0\n",
            " 0 0 0 0 0 0 4 4 2 0 0 4 2 0 4 2 2 0 0 4 4 0 2 0 4 0 0 2 0 0 0 0 4 0 0 0 0\n",
            " 0 0]\n"
          ]
        },
        {
          "output_type": "display_data",
          "data": {
            "image/png": "[encoded data removed]",
            "text/plain": [
              "<Figure size 576x576 with 1 Axes>"
            ]
          },
          "metadata": {
            "needs_background": "light"
          }
        }
      ]
    }
  ]
}